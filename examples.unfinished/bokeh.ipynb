{
 "cells": [
  {
   "cell_type": "code",
   "execution_count": null,
   "metadata": {},
   "outputs": [],
   "source": [
    "import xroms\n",
    "from bokeh.io import output_notebook, show\n",
    "from bokeh.plotting import figure\n",
    "from bokeh.models.mappers import LinearColorMapper\n",
    "from bokeh.models.annotations import ColorBar\n",
    "from bokeh.models import BasicTicker\n",
    "import bokeh.palettes\n",
    "output_notebook()"
   ]
  },
  {
   "cell_type": "code",
   "execution_count": null,
   "metadata": {},
   "outputs": [],
   "source": [
    "A = xroms.roms_dataset('ocean_avg_0014.nc')\n",
    "imax, jmax = A.dims['xi_rho'], A.dims['eta_rho']\n",
    "SST = A.temp.isel(ocean_time=0, s_rho=-1)\n",
    "SST = SST.where(A.mask_rho > 0)"
   ]
  },
  {
   "cell_type": "code",
   "execution_count": null,
   "metadata": {},
   "outputs": [],
   "source": [
    "# TODO: add hover\n",
    "color_mapper = LinearColorMapper(palette=\"Viridis256\", low=6, high=14)\n",
    "\n",
    "# 450, 400 by trial and error to make correct aspect ratio for the image\n",
    "p = figure(width=450, height=400,\n",
    "           x_range=(-0.5, imax-0.5), y_range=(-0.5, jmax-0.5), \n",
    "           title='Sea Surface Temperature')\n",
    "\n",
    "# Bokeh does not work with xarray, use values to get a numpy array\n",
    "p.image([SST.values], x=-0.5, y=-0.5, dw=imax, dh=jmax,\n",
    "        color_mapper=color_mapper)\n",
    "\n",
    "color_bar = ColorBar(color_mapper=color_mapper, ticker=BasicTicker(),\n",
    "                     label_standoff=4, location=(0, 0))\n",
    "p.add_layout(color_bar, 'right')\n",
    "    \n",
    "    \n",
    "show(p)"
   ]
  }
 ],
 "metadata": {
  "kernelspec": {
   "display_name": "Python 3",
   "language": "python",
   "name": "python3"
  },
  "language_info": {
   "codemirror_mode": {
    "name": "ipython",
    "version": 3
   },
   "file_extension": ".py",
   "mimetype": "text/x-python",
   "name": "python",
   "nbconvert_exporter": "python",
   "pygments_lexer": "ipython3",
   "version": "3.6.6"
  }
 },
 "nbformat": 4,
 "nbformat_minor": 2
}
