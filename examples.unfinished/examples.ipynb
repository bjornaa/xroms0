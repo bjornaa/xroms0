{
 "cells": [
  {
   "cell_type": "code",
   "execution_count": null,
   "metadata": {},
   "outputs": [],
   "source": [
    "import numpy as np\n",
    "import matplotlib.pyplot as plt\n",
    "import xarray as xr\n",
    "import xroms"
   ]
  },
  {
   "cell_type": "code",
   "execution_count": null,
   "metadata": {},
   "outputs": [],
   "source": [
    "# Extract a subgrid for Skagerrak\n",
    "A0 = xroms.roms_dataset('ocean_avg_0014.nc')\n",
    "# A = xroms.subgrid(A0, subgrid=(115, 172, 30, 80))\n",
    "A = xroms.subgrid(A0, subgrid_spec=(130, 170, 40, 75))\n"
   ]
  },
  {
   "cell_type": "code",
   "execution_count": null,
   "metadata": {},
   "outputs": [],
   "source": [
    "# Check the subgrid\n",
    "plt.figure()\n",
    "A.mask_rho.plot()\n",
    "plt.axis('image');"
   ]
  },
  {
   "cell_type": "code",
   "execution_count": null,
   "metadata": {},
   "outputs": [],
   "source": [
    "# Salinity at 50 meter, timeframe=3\n",
    "S = xroms.zslice(A.salt, z=50).isel(ocean_time=3)\n",
    "print(S.min(), '\\n', S.max())"
   ]
  },
  {
   "cell_type": "code",
   "execution_count": null,
   "metadata": {},
   "outputs": [],
   "source": [
    "levels = [34.5, 34.8, 34.9, 35.0, 35.05, 35.1, 35.15, 35.2]\n",
    "#S.plot.contourf(levels=levels, cmap='cool')\n",
    "plt.figure()\n",
    "S.plot(levels=levels, cmap='cool')\n",
    "clevels = [34.5, 34.8, 35.0]\n",
    "S.plot.contour(levels=clevels, colors='black', linewidths=0.5)\n",
    "# Nice grey colour on land\n",
    "A.mask_rho.plot(levels=[1], colors='LightGrey', add_colorbar=False)\n",
    "plt.axis('image');"
   ]
  },
  {
   "cell_type": "code",
   "execution_count": null,
   "metadata": {},
   "outputs": [],
   "source": [
    "# Interpolate u and v to rho-points, along s-surfaces\n",
    "A['u_rho'] = A.u.interp(coords={'xi_u': A.xi_rho, 'eta_u': A.eta_rho})\n",
    "A['v_rho'] = A.v.interp(coords={'xi_v': A.xi_rho, 'eta_v': A.eta_rho})\n",
    "\n",
    "# Slice to 50 meter at timeframe=3\n",
    "U = xroms.zslice(A.u_rho, z=0).isel(time=3)\n",
    "V = xroms.zslice(A.v_rho, z=0).isel(time=3)\n",
    "speed = (U*U + V*V)**0.5\n",
    "\n",
    "\n",
    "#speed.plot(alpha=0.8)\n",
    "plt.figure()\n",
    "plt.quiver(A.xi_rho, A.eta_rho, U, V, speed, cmap='Blues')\n",
    "\n",
    "A.mask_rho.plot(levels=[1], colors='LightGrey', add_colorbar=False)\n",
    "plt.axis('image')\n",
    "plt.show()"
   ]
  },
  {
   "cell_type": "code",
   "execution_count": null,
   "metadata": {},
   "outputs": [],
   "source": [
    "\n"
   ]
  },
  {
   "cell_type": "code",
   "execution_count": null,
   "metadata": {},
   "outputs": [],
   "source": []
  }
 ],
 "metadata": {
  "kernelspec": {
   "display_name": "Python 3",
   "language": "python",
   "name": "python3"
  },
  "language_info": {
   "codemirror_mode": {
    "name": "ipython",
    "version": 3
   },
   "file_extension": ".py",
   "mimetype": "text/x-python",
   "name": "python",
   "nbconvert_exporter": "python",
   "pygments_lexer": "ipython3",
   "version": "3.6.6"
  }
 },
 "nbformat": 4,
 "nbformat_minor": 2
}
