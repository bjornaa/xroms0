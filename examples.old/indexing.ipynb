{
 "cells": [
  {
   "cell_type": "code",
   "execution_count": 1,
   "metadata": {},
   "outputs": [],
   "source": [
    "import xarray as xr\n",
    "import xroms"
   ]
  },
  {
   "cell_type": "code",
   "execution_count": 2,
   "metadata": {},
   "outputs": [],
   "source": [
    "A = xroms.roms_dataset('ocean_avg_0014.nc')"
   ]
  },
  {
   "cell_type": "code",
   "execution_count": 3,
   "metadata": {},
   "outputs": [],
   "source": [
    "temp = A.temp"
   ]
  },
  {
   "cell_type": "code",
   "execution_count": 4,
   "metadata": {},
   "outputs": [
    {
     "data": {
      "text/plain": [
       "<xarray.DataArray 'temp' ()>\n",
       "array(9.756377220153809, dtype=float32)\n",
       "Coordinates:\n",
       "    xi_rho   int64 100\n",
       "    eta_rho  int64 110\n",
       "    time     datetime64[ns] 1989-05-30T12:00:00\n",
       "    s_rho    float64 -0.01562\n",
       "    z_rho    float32 -0.594677\n",
       "    lat_rho  float64 59.7\n",
       "    lon_rho  float64 1.189\n",
       "Attributes:\n",
       "    long_name:  averaged potential temperature\n",
       "    units:      Celsius\n",
       "    time:       ocean_time\n",
       "    field:      temperature, scalar, series"
      ]
     },
     "execution_count": 4,
     "metadata": {},
     "output_type": "execute_result"
    }
   ],
   "source": [
    "t = 2\n",
    "s = -1    # Surface\n",
    "i = 100\n",
    "j = 110\n",
    "temp[t, s, j, i]"
   ]
  },
  {
   "cell_type": "code",
   "execution_count": 5,
   "metadata": {},
   "outputs": [
    {
     "data": {
      "text/plain": [
       "<xarray.DataArray 'temp' ()>\n",
       "array(9.756377220153809, dtype=float32)\n",
       "Coordinates:\n",
       "    xi_rho   int64 100\n",
       "    eta_rho  int64 110\n",
       "    time     datetime64[ns] 1989-05-30T12:00:00\n",
       "    s_rho    float64 -0.01562\n",
       "    z_rho    float32 -0.594677\n",
       "    lat_rho  float64 59.7\n",
       "    lon_rho  float64 1.189\n",
       "Attributes:\n",
       "    long_name:  averaged potential temperature\n",
       "    units:      Celsius\n",
       "    time:       ocean_time\n",
       "    field:      temperature, scalar, series"
      ]
     },
     "execution_count": 5,
     "metadata": {},
     "output_type": "execute_result"
    }
   ],
   "source": [
    "# Do not need to remember the order of the indices\n",
    "temp.isel(xi_rho=i, eta_rho=j, s_rho=-1, time=2)"
   ]
  },
  {
   "cell_type": "code",
   "execution_count": 6,
   "metadata": {},
   "outputs": [
    {
     "data": {
      "text/plain": [
       "9.756377220153809"
      ]
     },
     "execution_count": 6,
     "metadata": {},
     "output_type": "execute_result"
    }
   ],
   "source": [
    "# Can use index values\n",
    "SST = A['temp'].isel(s_rho=-1)\n",
    "float(SST.sel(xi_rho=i, eta_rho=j, time='1989-05-30 12'))"
   ]
  },
  {
   "cell_type": "code",
   "execution_count": 7,
   "metadata": {},
   "outputs": [
    {
     "name": "stdout",
     "output_type": "stream",
     "text": [
      "-0.08350111544132233\n",
      "-0.08350111544132233\n"
     ]
    }
   ],
   "source": [
    "# The xi_u coordinate shows the stagerring\n",
    "# For u-velocity\n",
    "u0 = A.u[t, s, j, i]\n",
    "print(float(u0))\n",
    "u1 = A.u.isel(time=t, s_rho=s).sel(xi_u=i+0.5, eta_u=j)\n",
    "print(float(u1))\n"
   ]
  },
  {
   "cell_type": "code",
   "execution_count": 8,
   "metadata": {},
   "outputs": [
    {
     "data": {
      "text/plain": [
       "Frozen(SortedKeysDict(OrderedDict([('eta_rho', 91), ('xi_rho', 101), ('time', 10), ('s_rho', 32), ('eta_u', 91), ('xi_u', 102), ('eta_v', 92), ('xi_v', 101), ('s_w', 33)])))"
      ]
     },
     "execution_count": 8,
     "metadata": {},
     "output_type": "execute_result"
    }
   ],
   "source": [
    "# Take a subgrid\n",
    "i0, i1, j0, j1 = 10, 110, 30, 120\n",
    "B = xroms.subgrid(A, (i0, i1, j0, j1))\n",
    "B.dims"
   ]
  },
  {
   "cell_type": "code",
   "execution_count": 9,
   "metadata": {},
   "outputs": [
    {
     "name": "stdout",
     "output_type": "stream",
     "text": [
      "9.756377220153809\n",
      "9.756377220153809\n"
     ]
    }
   ],
   "source": [
    "# Numerical indexing is offset by subgrid\n",
    "print(float(A.temp[t, s, j, i]))\n",
    "print(float(B.temp[t, s, j-j0, i-i0]))"
   ]
  },
  {
   "cell_type": "code",
   "execution_count": 10,
   "metadata": {},
   "outputs": [
    {
     "name": "stdout",
     "output_type": "stream",
     "text": [
      "9.756377220153809\n",
      "9.756377220153809\n"
     ]
    }
   ],
   "source": [
    "# Indexing by coordinates are invariant under subgrid\n",
    "print(float(A.temp[t, s].sel(xi_rho=i, eta_rho=j)))\n",
    "print(float(B.temp[t, s].sel(xi_rho=i, eta_rho=j)))"
   ]
  },
  {
   "cell_type": "code",
   "execution_count": 11,
   "metadata": {},
   "outputs": [
    {
     "name": "stdout",
     "output_type": "stream",
     "text": [
      "-0.08350111544132233\n",
      "-0.08275257796049118\n",
      "-0.08350111544132233\n",
      "-0.08350111544132233\n",
      "-0.08350111544132233\n"
     ]
    }
   ],
   "source": [
    "# Check velocity (burde ikke disse være like)\n",
    "print(float(A.u[t, s, j, i]))\n",
    "print(float(B.u[t, s, j-j0, i-i0]))    # Må justere litt hva indeks skal være\n",
    "print(float(B.u[t, s, j-j0, i-i0+1]))  # Dette er den riktige  \n",
    "\n",
    "# Coordinate based velocity works just fine\n",
    "print(float(A.u[t, s].sel(xi_u=i+0.5, eta_u=j)))\n",
    "print(float(B.u[t, s].sel(xi_u=i+0.5, eta_u=j)))\n",
    "\n",
    "# Problemet er at hvis A er hele, har ikke hastighet på randen.\n",
    "# men har det hvis subgrid.\n",
    "# En mulig løsning: lese hele, ikke ta med rho-punkter på randen.\n",
    "# Alternativ løsning: subgrid, ikke ta med ytterste u, v punkter.\n",
    "# Begge metoder => hiver vekk informasjon\n",
    "                        "
   ]
  },
  {
   "cell_type": "code",
   "execution_count": null,
   "metadata": {},
   "outputs": [],
   "source": []
  }
 ],
 "metadata": {
  "kernelspec": {
   "display_name": "Python 3",
   "language": "python",
   "name": "python3"
  },
  "language_info": {
   "codemirror_mode": {
    "name": "ipython",
    "version": 3
   },
   "file_extension": ".py",
   "mimetype": "text/x-python",
   "name": "python",
   "nbconvert_exporter": "python",
   "pygments_lexer": "ipython3",
   "version": "3.6.5"
  }
 },
 "nbformat": 4,
 "nbformat_minor": 2
}
