{
 "cells": [
  {
   "cell_type": "markdown",
   "metadata": {},
   "source": [
    "# Indexing in a ROMS DataArray\n",
    "\n",
    "The flexibility of `xarray` gives several ways of indexing a DataArray"
   ]
  },
  {
   "cell_type": "code",
   "execution_count": 1,
   "metadata": {},
   "outputs": [],
   "source": [
    "import xarray as xr\n",
    "import xroms"
   ]
  },
  {
   "cell_type": "code",
   "execution_count": 2,
   "metadata": {},
   "outputs": [],
   "source": [
    "# Load a 4D ROMS DataArray\n",
    "A = xroms.roms_dataset('ocean_avg_0014.nc')\n",
    "temp = A.temp"
   ]
  },
  {
   "cell_type": "code",
   "execution_count": 3,
   "metadata": {},
   "outputs": [],
   "source": [
    "### Use indices "
   ]
  },
  {
   "cell_type": "code",
   "execution_count": 4,
   "metadata": {},
   "outputs": [
    {
     "data": {
      "text/plain": [
       "<xarray.DataArray 'temp' ()>\n",
       "array(9.756377, dtype=float32)\n",
       "Coordinates:\n",
       "    xi_rho   int64 100\n",
       "    eta_rho  int64 110\n",
       "    time     datetime64[ns] 1989-05-30T12:00:00\n",
       "    s_rho    float64 -0.01562\n",
       "    z_rho    float32 -0.59467655\n",
       "    lat_rho  float64 59.7\n",
       "    lon_rho  float64 1.189\n",
       "Attributes:\n",
       "    long_name:  averaged potential temperature\n",
       "    units:      Celsius\n",
       "    time:       ocean_time\n",
       "    field:      temperature, scalar, series"
      ]
     },
     "execution_count": 4,
     "metadata": {},
     "output_type": "execute_result"
    }
   ],
   "source": [
    "# Choose some index balues\n",
    "t = 2     # third time frame \n",
    "s = -1    # Surface\n",
    "i = 100   \n",
    "j = 110\n",
    "\n",
    "# Numpy type of indexing\n",
    "temp[t, s, j, i]"
   ]
  },
  {
   "cell_type": "markdown",
   "metadata": {},
   "source": [
    "Use the `isel` method to select values by named indices.\n",
    "This is more readable and independent of the order of the\n",
    "dimensions in the NetCDF file.\n",
    "\n",
    "Take `float` of the value to avoid to get the value without\n",
    "all the extra information."
   ]
  },
  {
   "cell_type": "code",
   "execution_count": 5,
   "metadata": {},
   "outputs": [
    {
     "name": "stdout",
     "output_type": "stream",
     "text": [
      "9.756377220153809\n",
      "9.756377220153809\n"
     ]
    }
   ],
   "source": [
    "# Do not need to remember the order of the indices\n",
    "value = temp.isel(xi_rho=i, eta_rho=j, s_rho=-1, time=2)\n",
    "print(float(value))\n",
    "\n",
    "# Compare with numpy style\n",
    "value = temp[t, s, j, i]\n",
    "print(float(value))"
   ]
  },
  {
   "cell_type": "markdown",
   "metadata": {},
   "source": [
    "### Using coordinate values\n",
    "\n",
    "The `sel` method can be used to select data based on the coordinate values.\n",
    "\n",
    "Note that for xi_rho and eta_rho the index equals the coordinate value."
   ]
  },
  {
   "cell_type": "code",
   "execution_count": 6,
   "metadata": {},
   "outputs": [
    {
     "name": "stdout",
     "output_type": "stream",
     "text": [
      "9.756377220153809\n"
     ]
    }
   ],
   "source": [
    "SST = A['temp'].isel(s_rho=-1)   # Easier to use index value for (near) surface\n",
    "\n",
    "value = SST.sel(xi_rho=i, eta_rho=j, time='1989-05-30 12')\n",
    "print(float(value))"
   ]
  },
  {
   "cell_type": "markdown",
   "metadata": {},
   "source": [
    "With staggered grid it is difficult to remember if the U point\n",
    "at the right edge of gridcell (i,j) has index i or i+1.\n",
    "With coordinates it is easy, it has xi_u = i + 0.5."
   ]
  },
  {
   "cell_type": "code",
   "execution_count": 7,
   "metadata": {},
   "outputs": [
    {
     "name": "stdout",
     "output_type": "stream",
     "text": [
      "-0.08350111544132233\n",
      "-0.08350111544132233\n"
     ]
    }
   ],
   "source": [
    "u = A.u.isel(time=t, s_rho=s).sel(xi_u=i+0.5, eta_u=j)\n",
    "print(float(u))\n",
    "\n",
    "# The grid cell to the right has index = i\n",
    "u = A.u[t, s, j, i]\n",
    "print(float(u))"
   ]
  },
  {
   "cell_type": "markdown",
   "metadata": {},
   "source": [
    "For plotting and analyses it is often convenient to work on a *subgrid*.\n",
    "XROMS has a function for extracting a subgrid and coordinate-based indexing\n",
    "is useful for indexing correctly."
   ]
  },
  {
   "cell_type": "code",
   "execution_count": 8,
   "metadata": {},
   "outputs": [],
   "source": [
    "# Take a subgrid\n",
    "i0, i1, j0, j1 = 10, 110, 30, 120\n",
    "B = xroms.subgrid(A, (i0, i1, j0, j1))"
   ]
  },
  {
   "cell_type": "code",
   "execution_count": 9,
   "metadata": {},
   "outputs": [
    {
     "name": "stdout",
     "output_type": "stream",
     "text": [
      "9.756377220153809\n",
      "9.756377220153809\n",
      "9.756377220153809\n",
      "9.756377220153809\n"
     ]
    }
   ],
   "source": [
    "# With index values offsets are needed\n",
    "print(float(A.temp[t, s, j, i]))\n",
    "print(float(B.temp[t, s, j-j0, i-i0]))\n",
    "\n",
    "# Indexing by coordinates are invariant under subgrid\n",
    "print(float(A.temp[t, s].sel(xi_rho=i, eta_rho=j)))\n",
    "print(float(B.temp[t, s].sel(xi_rho=i, eta_rho=j)))"
   ]
  },
  {
   "cell_type": "markdown",
   "metadata": {},
   "source": [
    "Velocities in a subgrid may or may not be defined\n",
    "at the edges of the subgrid. This modifies the offset.\n",
    "By default, the subgrid is *outer*, velocity is included at the edges."
   ]
  },
  {
   "cell_type": "code",
   "execution_count": 10,
   "metadata": {},
   "outputs": [
    {
     "name": "stdout",
     "output_type": "stream",
     "text": [
      "-0.08350111544132233\n",
      "-0.08350111544132233\n",
      "-0.08350111544132233\n",
      "-0.08350111544132233\n"
     ]
    }
   ],
   "source": [
    "# For velocity it is more complicated\n",
    "print(float(A.u[t, s, j, i]))          # \n",
    "print(float(B.u[t, s, j-j0, i-i0+1]))  # Add 1 since velocity is included at left edge\n",
    "\n",
    "# Coordinate based velocity works just fine\n",
    "print(float(A.u[t, s].sel(xi_u=i+0.5, eta_u=j)))\n",
    "print(float(B.u[t, s].sel(xi_u=i+0.5, eta_u=j)))                        "
   ]
  }
 ],
 "metadata": {
  "kernelspec": {
   "display_name": "Python 3",
   "language": "python",
   "name": "python3"
  },
  "language_info": {
   "codemirror_mode": {
    "name": "ipython",
    "version": 3
   },
   "file_extension": ".py",
   "mimetype": "text/x-python",
   "name": "python",
   "nbconvert_exporter": "python",
   "pygments_lexer": "ipython3",
   "version": "3.6.6"
  }
 },
 "nbformat": 4,
 "nbformat_minor": 2
}
