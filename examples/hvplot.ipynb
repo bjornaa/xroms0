{
 "cells": [
  {
   "cell_type": "code",
   "execution_count": null,
   "metadata": {},
   "outputs": [],
   "source": [
    "import xarray as xr\n",
    "import numpy as np\n",
    "# import holoviews as hv\n",
    "# import cmocean.cm as cmo\n",
    "import hvplot.xarray\n",
    "import xroms\n",
    "# hv.extension('bokeh')"
   ]
  },
  {
   "cell_type": "code",
   "execution_count": null,
   "metadata": {},
   "outputs": [],
   "source": [
    "A = xroms.roms_dataset('ocean_avg_0014.nc')\n",
    "SST = A.temp[0, -1, :, :].reset_coords(drop=True)\n",
    "H = A.h.reset_coords(drop=True)"
   ]
  },
  {
   "cell_type": "code",
   "execution_count": null,
   "metadata": {},
   "outputs": [],
   "source": [
    "SST.hvplot(x='xi_rho', y='eta_rho', width=400, height=380)"
   ]
  },
  {
   "cell_type": "code",
   "execution_count": null,
   "metadata": {},
   "outputs": [],
   "source": [
    "levels = [10, 20, 50, 100, 200, 500, 1000, 2000, 5000]\n",
    "h0 = SST.hvplot(x='xi_rho', y='eta_rho', width=350, colormap='viridis_r')\n",
    "h1 = H.hvplot.contour(x='xi_rho', y='eta_rho', width=350, levels=levels, color='white')\n",
    "# How to get white contour lines?\n",
    "h0*h1"
   ]
  },
  {
   "cell_type": "code",
   "execution_count": null,
   "metadata": {},
   "outputs": [],
   "source": []
  },
  {
   "cell_type": "code",
   "execution_count": null,
   "metadata": {},
   "outputs": [],
   "source": []
  }
 ],
 "metadata": {
  "kernelspec": {
   "display_name": "Python 3",
   "language": "python",
   "name": "python3"
  },
  "language_info": {
   "codemirror_mode": {
    "name": "ipython",
    "version": 3
   },
   "file_extension": ".py",
   "mimetype": "text/x-python",
   "name": "python",
   "nbconvert_exporter": "python",
   "pygments_lexer": "ipython3",
   "version": "3.7.2"
  }
 },
 "nbformat": 4,
 "nbformat_minor": 2
}
