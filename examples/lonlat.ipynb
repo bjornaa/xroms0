{
 "cells": [
  {
   "cell_type": "code",
   "execution_count": 1,
   "metadata": {},
   "outputs": [
    {
     "ename": "ModuleNotFoundError",
     "evalue": "No module named 'lonlat'",
     "traceback": [
      "\u001b[0;31m---------------------------------------------------------------------------\u001b[0m",
      "\u001b[0;31mModuleNotFoundError\u001b[0m                       Traceback (most recent call last)",
      "\u001b[0;32m<ipython-input-1-ada539aec8fe>\u001b[0m in \u001b[0;36m<module>\u001b[0;34m()\u001b[0m\n\u001b[1;32m      3\u001b[0m \u001b[0;32mimport\u001b[0m \u001b[0mxarray\u001b[0m \u001b[0;32mas\u001b[0m \u001b[0mxr\u001b[0m\u001b[0;34m\u001b[0m\u001b[0m\n\u001b[1;32m      4\u001b[0m \u001b[0;32mimport\u001b[0m \u001b[0mxroms\u001b[0m\u001b[0;34m\u001b[0m\u001b[0m\n\u001b[0;32m----> 5\u001b[0;31m \u001b[0;32mimport\u001b[0m \u001b[0mlonlat\u001b[0m\u001b[0;34m\u001b[0m\u001b[0m\n\u001b[0m",
      "\u001b[0;31mModuleNotFoundError\u001b[0m: No module named 'lonlat'"
     ],
     "output_type": "error"
    }
   ],
   "source": [
    "import numpy as np\n",
    "from scipy.interpolate import griddata\n",
    "import xarray as xr\n",
    "import xroms\n",
    "import lonlat"
   ]
  },
  {
   "cell_type": "code",
   "execution_count": 2,
   "metadata": {},
   "outputs": [],
   "source": [
    "A = xroms.roms_dataset('ocean_avg_0014.nc')"
   ]
  },
  {
   "cell_type": "code",
   "execution_count": 3,
   "metadata": {},
   "outputs": [],
   "source": [
    "lon = A['lon_rho'].data.ravel()\n",
    "lat = A['lat_rho'].data.ravel()\n",
    "X0 = A['xi_rho'].data\n",
    "Y0 = A['eta_rho'].data\n",
    "X, Y = np.meshgrid(X0, Y0)\n",
    "X = X.ravel()\n",
    "Y = Y.ravel()"
   ]
  },
  {
   "cell_type": "code",
   "execution_count": 4,
   "metadata": {},
   "outputs": [
    {
     "name": "stdout",
     "output_type": "stream",
     "text": [
      "5 62\n",
      "138.27183305194728 131.84933676032466\n"
     ]
    }
   ],
   "source": [
    "lon0, lat0 = 5, 62\n",
    "X1 = griddata((lon, lat), X, (lon0, lat0), 'linear')\n",
    "Y1 = griddata((lon, lat), Y, (lon0, lat0), 'linear')\n",
    "print(lon0, lat0)\n",
    "print(X1, Y1)"
   ]
  },
  {
   "cell_type": "code",
   "execution_count": 5,
   "metadata": {},
   "outputs": [
    {
     "name": "stdout",
     "output_type": "stream",
     "text": [
      "4.999984335931758\n",
      "62.00000538949814\n"
     ]
    }
   ],
   "source": [
    "lon1, lat1 = lonlat.xy2ll(A, X1, Y1)\n",
    "print(lon1.data)\n",
    "print(lat1.data)"
   ]
  },
  {
   "cell_type": "code",
   "execution_count": 6,
   "metadata": {},
   "outputs": [
    {
     "name": "stdout",
     "output_type": "stream",
     "text": [
      "100 50\n",
      "4.919278581444114 56.01374792444938\n",
      "99.99999999999999 49.99999999999999\n"
     ]
    }
   ],
   "source": [
    "x1, y1 = 100, 50\n",
    "print(x1, y1)\n",
    "lon2, lat2 = lonlat.xy2ll(A, x1, y1)\n",
    "lon2 = lon2.data\n",
    "lat2 = lat2.data\n",
    "print(lon2, lat2)\n",
    "x2 = griddata((lon, lat), X, (lon2, lat2))\n",
    "y2 = griddata((lon, lat), Y, (lon2, lat2))\n",
    "print(x2, y2)"
   ]
  },
  {
   "cell_type": "code",
   "execution_count": null,
   "metadata": {},
   "outputs": [],
   "source": []
  }
 ],
 "metadata": {
  "kernelspec": {
   "display_name": "Python 3",
   "language": "python",
   "name": "python3"
  },
  "language_info": {
   "codemirror_mode": {
    "name": "ipython",
    "version": 3
   },
   "file_extension": ".py",
   "mimetype": "text/x-python",
   "name": "python",
   "nbconvert_exporter": "python",
   "pygments_lexer": "ipython3",
   "version": "3.6.5"
  }
 },
 "nbformat": 4,
 "nbformat_minor": 2
}
