{
 "cells": [
  {
   "cell_type": "code",
   "execution_count": 1,
   "metadata": {},
   "outputs": [],
   "source": [
    "import numpy as np\n",
    "import matplotlib.pyplot as plt\n",
    "import xarray as xr\n",
    "import xroms\n",
    "#%matplotlib notebook\n",
    "%matplotlib inline"
   ]
  },
  {
   "cell_type": "code",
   "execution_count": 2,
   "metadata": {},
   "outputs": [],
   "source": [
    "# Initiate the Dataset\n",
    "A = xroms.roms_dataset(\"ocean_avg_0014.nc\")"
   ]
  },
  {
   "cell_type": "code",
   "execution_count": 15,
   "metadata": {},
   "outputs": [
    {
     "data": {
      "image/png": "[encoded data removed]",
      "text/plain": [
       "<Figure size 432x288 with 1 Axes>"
      ]
     },
     "metadata": {},
     "output_type": "display_data"
    }
   ],
   "source": [
    "# Define a linear section, draw in map for control\n",
    "x0, y0 = 70,  94\n",
    "x1, y1 = 120, 80\n",
    "Nedges = 50\n",
    "X = np.linspace(x0, x1, Nedges+1)\n",
    "Y = np.linspace(y0, y1, Nedges+1)\n",
    "\n",
    "A.mask_rho.plot(add_colorbar=False)\n",
    "plt.plot(X, Y)\n",
    "plt.axis('image');"
   ]
  },
  {
   "cell_type": "code",
   "execution_count": 16,
   "metadata": {},
   "outputs": [
    {
     "data": {
      "text/plain": [
       "[<matplotlib.lines.Line2D at 0x7fb3a34bd9e8>]"
      ]
     },
     "execution_count": 16,
     "metadata": {},
     "output_type": "execute_result"
    },
    {
     "data": {
      "image/png": "[encoded data removed]",
      "text/plain": [
       "<Figure size 432x288 with 1 Axes>"
      ]
     },
     "metadata": {},
     "output_type": "display_data"
    }
   ],
   "source": [
    "# Make DataArrays\n",
    "Xv = xr.DataArray(X, dims=['q'], coords=dict(q=np.arange(Npoints+1)))\n",
    "Yv = xr.DataArray(Y, dims=['q'], coords=dict(q=np.arange(Npoints+1)))\n",
    "B = A.interp(xi_rho=Xv, eta_rho=Yv)\n",
    "B\n",
    "# Plot depth along section\n",
    "B.h.plot(yincrease=False)\n",
    "#B.h.plot(x=B.lon_rho, yincrease=False)"
   ]
  },
  {
   "cell_type": "code",
   "execution_count": 67,
   "metadata": {},
   "outputs": [
    {
     "ename": "TypeError",
     "evalue": "unhashable type: 'DataArray'",
     "traceback": [
      "\u001b[0;31m---------------------------------------------------------------------------\u001b[0m",
      "\u001b[0;31mTypeError\u001b[0m                                 Traceback (most recent call last)",
      "\u001b[0;32m<ipython-input-67-1c2f62f527f5>\u001b[0m in \u001b[0;36m<module>\u001b[0;34m()\u001b[0m\n\u001b[1;32m     21\u001b[0m \u001b[0;31m#B['distance'].attrs = {'units': 'km', 'long_name':'Distance along section'}\u001b[0m\u001b[0;34m\u001b[0m\u001b[0;34m\u001b[0m\u001b[0m\n\u001b[1;32m     22\u001b[0m \u001b[0;31m#B['depth'].attrs = {'units': 'm'}\u001b[0m\u001b[0;34m\u001b[0m\u001b[0;34m\u001b[0m\u001b[0m\n\u001b[0;32m---> 23\u001b[0;31m \u001b[0mBe\u001b[0m\u001b[0;34m.\u001b[0m\u001b[0mdepth\u001b[0m\u001b[0;34m.\u001b[0m\u001b[0mswap_dims\u001b[0m\u001b[0;34m(\u001b[0m\u001b[0;34m{\u001b[0m\u001b[0;34m'q'\u001b[0m\u001b[0;34m:\u001b[0m \u001b[0mBe\u001b[0m\u001b[0;34m.\u001b[0m\u001b[0mdistance\u001b[0m\u001b[0;34m}\u001b[0m\u001b[0;34m)\u001b[0m\u001b[0;34m\u001b[0m\u001b[0m\n\u001b[0m",
      "\u001b[0;32m/opt/anaconda/lib/python3.6/site-packages/xarray/core/dataarray.py\u001b[0m in \u001b[0;36mswap_dims\u001b[0;34m(self, dims_dict)\u001b[0m\n\u001b[1;32m   1006\u001b[0m         \u001b[0mDataset\u001b[0m\u001b[0;34m.\u001b[0m\u001b[0mswap_dims\u001b[0m\u001b[0;34m\u001b[0m\u001b[0m\n\u001b[1;32m   1007\u001b[0m         \"\"\"\n\u001b[0;32m-> 1008\u001b[0;31m         \u001b[0mds\u001b[0m \u001b[0;34m=\u001b[0m \u001b[0mself\u001b[0m\u001b[0;34m.\u001b[0m\u001b[0m_to_temp_dataset\u001b[0m\u001b[0;34m(\u001b[0m\u001b[0;34m)\u001b[0m\u001b[0;34m.\u001b[0m\u001b[0mswap_dims\u001b[0m\u001b[0;34m(\u001b[0m\u001b[0mdims_dict\u001b[0m\u001b[0;34m)\u001b[0m\u001b[0;34m\u001b[0m\u001b[0m\n\u001b[0m\u001b[1;32m   1009\u001b[0m         \u001b[0;32mreturn\u001b[0m \u001b[0mself\u001b[0m\u001b[0;34m.\u001b[0m\u001b[0m_from_temp_dataset\u001b[0m\u001b[0;34m(\u001b[0m\u001b[0mds\u001b[0m\u001b[0;34m)\u001b[0m\u001b[0;34m\u001b[0m\u001b[0m\n\u001b[1;32m   1010\u001b[0m \u001b[0;34m\u001b[0m\u001b[0m\n",
      "\u001b[0;32m/opt/anaconda/lib/python3.6/site-packages/xarray/core/dataset.py\u001b[0m in \u001b[0;36mswap_dims\u001b[0;34m(self, dims_dict, inplace)\u001b[0m\n\u001b[1;32m   1972\u001b[0m                 raise ValueError('cannot swap from dimension %r because it is '\n\u001b[1;32m   1973\u001b[0m                                  'not an existing dimension' % k)\n\u001b[0;32m-> 1974\u001b[0;31m             \u001b[0;32mif\u001b[0m \u001b[0mself\u001b[0m\u001b[0;34m.\u001b[0m\u001b[0mvariables\u001b[0m\u001b[0;34m[\u001b[0m\u001b[0mv\u001b[0m\u001b[0;34m]\u001b[0m\u001b[0;34m.\u001b[0m\u001b[0mdims\u001b[0m \u001b[0;34m!=\u001b[0m \u001b[0;34m(\u001b[0m\u001b[0mk\u001b[0m\u001b[0;34m,\u001b[0m\u001b[0;34m)\u001b[0m\u001b[0;34m:\u001b[0m\u001b[0;34m\u001b[0m\u001b[0m\n\u001b[0m\u001b[1;32m   1975\u001b[0m                 raise ValueError('replacement dimension %r is not a 1D '\n\u001b[1;32m   1976\u001b[0m                                  \u001b[0;34m'variable along the old dimension %r'\u001b[0m\u001b[0;34m\u001b[0m\u001b[0m\n",
      "\u001b[0;32m/opt/anaconda/lib/python3.6/site-packages/xarray/core/utils.py\u001b[0m in \u001b[0;36m__getitem__\u001b[0;34m(self, key)\u001b[0m\n\u001b[1;32m    308\u001b[0m \u001b[0;34m\u001b[0m\u001b[0m\n\u001b[1;32m    309\u001b[0m     \u001b[0;32mdef\u001b[0m \u001b[0m__getitem__\u001b[0m\u001b[0;34m(\u001b[0m\u001b[0mself\u001b[0m\u001b[0;34m,\u001b[0m \u001b[0mkey\u001b[0m\u001b[0;34m)\u001b[0m\u001b[0;34m:\u001b[0m\u001b[0;34m\u001b[0m\u001b[0m\n\u001b[0;32m--> 310\u001b[0;31m         \u001b[0;32mreturn\u001b[0m \u001b[0mself\u001b[0m\u001b[0;34m.\u001b[0m\u001b[0mmapping\u001b[0m\u001b[0;34m[\u001b[0m\u001b[0mkey\u001b[0m\u001b[0;34m]\u001b[0m\u001b[0;34m\u001b[0m\u001b[0m\n\u001b[0m\u001b[1;32m    311\u001b[0m \u001b[0;34m\u001b[0m\u001b[0m\n\u001b[1;32m    312\u001b[0m     \u001b[0;32mdef\u001b[0m \u001b[0m__iter__\u001b[0m\u001b[0;34m(\u001b[0m\u001b[0mself\u001b[0m\u001b[0;34m)\u001b[0m\u001b[0;34m:\u001b[0m\u001b[0;34m\u001b[0m\u001b[0m\n",
      "\u001b[0;31mTypeError\u001b[0m: unhashable type: 'DataArray'"
     ],
     "output_type": "error"
    }
   ],
   "source": [
    "# mid points on edges\n",
    "Xe = 0.5*(X[:-1] + X[1:])\n",
    "Ye = 0.5*(Y[:-1] + Y[1:])\n",
    "Xe = xr.DataArray(Xe, dims=['q'], coords=dict(q=np.arange(Npoints)))\n",
    "Ye = xr.DataArray(Ye, dims=['q'], coords=dict(q=np.arange(Npoints)))\n",
    "\n",
    "Bp = A.interp(xi_rho=Xv, eta_rho=Yv)\n",
    "Be = A.interp(xi_rho=Xe, eta_rho=Ye)\n",
    "\n",
    "Dx2 = (Bp.xi_rho.values[1:] - Bp.xi_rho.values[:-1])**2 / Be.pm.values**2\n",
    "Dy2 = (Bp.eta_rho.values[1:] - Bp.eta_rho.values[:-1])**2 / Be.pn.values**2\n",
    "D = np.sqrt(Dx2 + Dy2)\n",
    "\n",
    "# OBS. distance = feil, regn nærmere\n",
    "# Skill mellom vertices og edges\n",
    "#coords = {'time': B0.time, 's_rho': B0.s_rho, 'q': B0.q, 'distance': d, 'z': B.z, 'depth': -B.z}\n",
    "Be.coords['distance'] = np.cumsum(D) / 1000.0\n",
    "Be.coords['depth'] = -Be.z_rho\n",
    "# B['distance'].attributes = {'units': 'km'}\n",
    "# B.swap_dims({'q': 'distance'})\n",
    "#B['distance'].attrs = {'units': 'km', 'long_name':'Distance along section'}\n",
    "#B['depth'].attrs = {'units': 'm'}\n",
    "# Be.depth.swap_dims({'q': 'distance'}) Virker ikke\n",
    "# Definer fullt data-array for detph."
   ]
  },
  {
   "cell_type": "code",
   "execution_count": 61,
   "metadata": {},
   "outputs": [
    {
     "data": {
      "text/plain": [
       "<matplotlib.contour.QuadContourSet at 0x7fb3d484aac8>"
      ]
     },
     "execution_count": 61,
     "metadata": {},
     "output_type": "execute_result"
    },
    {
     "data": {
      "image/png": "[encoded data removed]",
      "text/plain": [
       "<Figure size 432x288 with 2 Axes>"
      ]
     },
     "metadata": {},
     "output_type": "display_data"
    }
   ],
   "source": [
    "T = Be.temp.isel(time=3)\n",
    "T.plot.contourf('q', 'z_rho', robust=True, cmap='rainbow')\n",
    "# T['depth'] = -T.z\n",
    "# Denne virker ikke, hverken med z eller depth\n",
    "# T.plot.pcolormesh('q', 'z')\n",
    "# T.plot.contourf('distance', 'depth', yincrease=False)\n",
    "# T.plot.contourf('q', 'depth', yincrease=False)  # Denne virker\n"
   ]
  },
  {
   "cell_type": "code",
   "execution_count": 27,
   "metadata": {},
   "outputs": [],
   "source": [
    "#T = B.temp.isel(time=3)\n",
    "#T.plot.contourf('q', 'z', robust=True, cmap='rainbow')\n",
    "#T['depth'] = -T.z\n",
    "# Denne virker ikke, hverken med z eller depth\n",
    "# T.plot.pcolormesh('q', 'z')\n",
    "# T.plot.contourf('q', 'depth')"
   ]
  },
  {
   "cell_type": "code",
   "execution_count": 9,
   "metadata": {},
   "outputs": [
    {
     "ename": "ValueError",
     "evalue": "x and y must be coordinate variables",
     "traceback": [
      "\u001b[0;31m---------------------------------------------------------------------------\u001b[0m",
      "\u001b[0;31mValueError\u001b[0m                                Traceback (most recent call last)",
      "\u001b[0;32m<ipython-input-9-ad8818383c50>\u001b[0m in \u001b[0;36m<module>\u001b[0;34m()\u001b[0m\n\u001b[1;32m      1\u001b[0m \u001b[0mS\u001b[0m \u001b[0;34m=\u001b[0m \u001b[0mB\u001b[0m\u001b[0;34m.\u001b[0m\u001b[0msalt\u001b[0m\u001b[0;34m.\u001b[0m\u001b[0misel\u001b[0m\u001b[0;34m(\u001b[0m\u001b[0mtime\u001b[0m\u001b[0;34m=\u001b[0m\u001b[0;36m3\u001b[0m\u001b[0;34m)\u001b[0m\u001b[0;34m\u001b[0m\u001b[0m\n\u001b[1;32m      2\u001b[0m \u001b[0mlevels\u001b[0m \u001b[0;34m=\u001b[0m \u001b[0;34m[\u001b[0m\u001b[0;36m32\u001b[0m\u001b[0;34m,\u001b[0m \u001b[0;36m33\u001b[0m\u001b[0;34m,\u001b[0m \u001b[0;36m34\u001b[0m\u001b[0;34m,\u001b[0m \u001b[0;36m34.5\u001b[0m\u001b[0;34m,\u001b[0m \u001b[0;36m34.8\u001b[0m\u001b[0;34m,\u001b[0m \u001b[0;36m34.9\u001b[0m\u001b[0;34m,\u001b[0m \u001b[0;36m35.0\u001b[0m\u001b[0;34m,\u001b[0m \u001b[0;36m35.1\u001b[0m\u001b[0;34m,\u001b[0m \u001b[0;36m35.2\u001b[0m\u001b[0;34m]\u001b[0m\u001b[0;34m\u001b[0m\u001b[0m\n\u001b[0;32m----> 3\u001b[0;31m \u001b[0mS\u001b[0m\u001b[0;34m.\u001b[0m\u001b[0mplot\u001b[0m\u001b[0;34m.\u001b[0m\u001b[0mcontourf\u001b[0m\u001b[0;34m(\u001b[0m\u001b[0;34m'q'\u001b[0m\u001b[0;34m,\u001b[0m \u001b[0;34m'z'\u001b[0m\u001b[0;34m,\u001b[0m \u001b[0mlevels\u001b[0m\u001b[0;34m=\u001b[0m\u001b[0mlevels\u001b[0m\u001b[0;34m,\u001b[0m \u001b[0mcmap\u001b[0m\u001b[0;34m=\u001b[0m\u001b[0;34m'rainbow_r'\u001b[0m\u001b[0;34m)\u001b[0m\u001b[0;34m\u001b[0m\u001b[0m\n\u001b[0m",
      "\u001b[0;32m/opt/anaconda/lib/python3.6/site-packages/xarray/plot/plot.py\u001b[0m in \u001b[0;36mplotmethod\u001b[0;34m(_PlotMethods_obj, x, y, figsize, size, aspect, ax, row, col, col_wrap, xincrease, yincrease, add_colorbar, add_labels, vmin, vmax, cmap, colors, center, robust, extend, levels, infer_intervals, subplot_kws, cbar_ax, cbar_kwargs, **kwargs)\u001b[0m\n\u001b[1;32m    751\u001b[0m         \u001b[0;32mfor\u001b[0m \u001b[0marg\u001b[0m \u001b[0;32min\u001b[0m \u001b[0;34m[\u001b[0m\u001b[0;34m'_PlotMethods_obj'\u001b[0m\u001b[0;34m,\u001b[0m \u001b[0;34m'newplotfunc'\u001b[0m\u001b[0;34m,\u001b[0m \u001b[0;34m'kwargs'\u001b[0m\u001b[0;34m]\u001b[0m\u001b[0;34m:\u001b[0m\u001b[0;34m\u001b[0m\u001b[0m\n\u001b[1;32m    752\u001b[0m             \u001b[0;32mdel\u001b[0m \u001b[0mallargs\u001b[0m\u001b[0;34m[\u001b[0m\u001b[0marg\u001b[0m\u001b[0;34m]\u001b[0m\u001b[0;34m\u001b[0m\u001b[0m\n\u001b[0;32m--> 753\u001b[0;31m         \u001b[0;32mreturn\u001b[0m \u001b[0mnewplotfunc\u001b[0m\u001b[0;34m(\u001b[0m\u001b[0;34m**\u001b[0m\u001b[0mallargs\u001b[0m\u001b[0;34m)\u001b[0m\u001b[0;34m\u001b[0m\u001b[0m\n\u001b[0m\u001b[1;32m    754\u001b[0m \u001b[0;34m\u001b[0m\u001b[0m\n\u001b[1;32m    755\u001b[0m     \u001b[0;31m# Add to class _PlotMethods\u001b[0m\u001b[0;34m\u001b[0m\u001b[0;34m\u001b[0m\u001b[0m\n",
      "\u001b[0;32m/opt/anaconda/lib/python3.6/site-packages/xarray/plot/plot.py\u001b[0m in \u001b[0;36mnewplotfunc\u001b[0;34m(darray, x, y, figsize, size, aspect, ax, row, col, col_wrap, xincrease, yincrease, add_colorbar, add_labels, vmin, vmax, cmap, center, robust, extend, levels, infer_intervals, colors, subplot_kws, cbar_ax, cbar_kwargs, **kwargs)\u001b[0m\n\u001b[1;32m    625\u001b[0m         \u001b[0mrgb\u001b[0m \u001b[0;34m=\u001b[0m \u001b[0mkwargs\u001b[0m\u001b[0;34m.\u001b[0m\u001b[0mpop\u001b[0m\u001b[0;34m(\u001b[0m\u001b[0;34m'rgb'\u001b[0m\u001b[0;34m,\u001b[0m \u001b[0;32mNone\u001b[0m\u001b[0;34m)\u001b[0m\u001b[0;34m\u001b[0m\u001b[0m\n\u001b[1;32m    626\u001b[0m         xlab, ylab = _infer_xy_labels(\n\u001b[0;32m--> 627\u001b[0;31m             darray=darray, x=x, y=y, imshow=imshow_rgb, rgb=rgb)\n\u001b[0m\u001b[1;32m    628\u001b[0m \u001b[0;34m\u001b[0m\u001b[0m\n\u001b[1;32m    629\u001b[0m         \u001b[0;32mif\u001b[0m \u001b[0mrgb\u001b[0m \u001b[0;32mis\u001b[0m \u001b[0;32mnot\u001b[0m \u001b[0;32mNone\u001b[0m \u001b[0;32mand\u001b[0m \u001b[0mplotfunc\u001b[0m\u001b[0;34m.\u001b[0m\u001b[0m__name__\u001b[0m \u001b[0;34m!=\u001b[0m \u001b[0;34m'imshow'\u001b[0m\u001b[0;34m:\u001b[0m\u001b[0;34m\u001b[0m\u001b[0m\n",
      "\u001b[0;32m/opt/anaconda/lib/python3.6/site-packages/xarray/plot/utils.py\u001b[0m in \u001b[0;36m_infer_xy_labels\u001b[0;34m(darray, x, y, imshow, rgb)\u001b[0m\n\u001b[1;32m    325\u001b[0m         \u001b[0my\u001b[0m \u001b[0;34m=\u001b[0m \u001b[0mdarray\u001b[0m\u001b[0;34m.\u001b[0m\u001b[0mdims\u001b[0m\u001b[0;34m[\u001b[0m\u001b[0;36m0\u001b[0m\u001b[0;34m]\u001b[0m \u001b[0;32mif\u001b[0m \u001b[0mx\u001b[0m \u001b[0;34m==\u001b[0m \u001b[0mdarray\u001b[0m\u001b[0;34m.\u001b[0m\u001b[0mdims\u001b[0m\u001b[0;34m[\u001b[0m\u001b[0;36m1\u001b[0m\u001b[0;34m]\u001b[0m \u001b[0;32melse\u001b[0m \u001b[0mdarray\u001b[0m\u001b[0;34m.\u001b[0m\u001b[0mdims\u001b[0m\u001b[0;34m[\u001b[0m\u001b[0;36m1\u001b[0m\u001b[0;34m]\u001b[0m\u001b[0;34m\u001b[0m\u001b[0m\n\u001b[1;32m    326\u001b[0m     \u001b[0;32melif\u001b[0m \u001b[0many\u001b[0m\u001b[0;34m(\u001b[0m\u001b[0mk\u001b[0m \u001b[0;32mnot\u001b[0m \u001b[0;32min\u001b[0m \u001b[0mdarray\u001b[0m\u001b[0;34m.\u001b[0m\u001b[0mcoords\u001b[0m \u001b[0;32mand\u001b[0m \u001b[0mk\u001b[0m \u001b[0;32mnot\u001b[0m \u001b[0;32min\u001b[0m \u001b[0mdarray\u001b[0m\u001b[0;34m.\u001b[0m\u001b[0mdims\u001b[0m \u001b[0;32mfor\u001b[0m \u001b[0mk\u001b[0m \u001b[0;32min\u001b[0m \u001b[0;34m(\u001b[0m\u001b[0mx\u001b[0m\u001b[0;34m,\u001b[0m \u001b[0my\u001b[0m\u001b[0;34m)\u001b[0m\u001b[0;34m)\u001b[0m\u001b[0;34m:\u001b[0m\u001b[0;34m\u001b[0m\u001b[0m\n\u001b[0;32m--> 327\u001b[0;31m         \u001b[0;32mraise\u001b[0m \u001b[0mValueError\u001b[0m\u001b[0;34m(\u001b[0m\u001b[0;34m'x and y must be coordinate variables'\u001b[0m\u001b[0;34m)\u001b[0m\u001b[0;34m\u001b[0m\u001b[0m\n\u001b[0m\u001b[1;32m    328\u001b[0m     \u001b[0;32mreturn\u001b[0m \u001b[0mx\u001b[0m\u001b[0;34m,\u001b[0m \u001b[0my\u001b[0m\u001b[0;34m\u001b[0m\u001b[0m\n\u001b[1;32m    329\u001b[0m \u001b[0;34m\u001b[0m\u001b[0m\n",
      "\u001b[0;31mValueError\u001b[0m: x and y must be coordinate variables"
     ],
     "output_type": "error"
    }
   ],
   "source": [
    "S = B.salt.isel(time=3)\n",
    "levels = [32, 33, 34, 34.5, 34.8, 34.9, 35.0, 35.1, 35.2]\n",
    "S.plot.contourf('q', 'z', levels=levels, cmap='rainbow_r')"
   ]
  },
  {
   "cell_type": "code",
   "execution_count": 10,
   "metadata": {},
   "outputs": [
    {
     "data": {
      "text/plain": [
       "<xarray.Dataset>\n",
       "Dimensions:   (eta_rho: 192, eta_u: 192, eta_v: 191, s_rho: 32, s_w: 33, time: 10, xi_rho: 182, xi_u: 181, xi_v: 182)\n",
       "Coordinates:\n",
       "  * xi_rho    (xi_rho) int64 0 1 2 3 4 5 6 7 8 9 10 11 12 13 14 15 16 17 18 ...\n",
       "  * eta_rho   (eta_rho) int64 0 1 2 3 4 5 6 7 8 9 10 11 12 13 14 15 16 17 18 ...\n",
       "    lat_rho   (eta_rho, xi_rho) float64 48.0 48.06 48.13 48.19 48.25 48.32 ...\n",
       "    lon_rho   (eta_rho, xi_rho) float64 -1.0 -0.9078 -0.8155 -0.7232 -0.6309 ...\n",
       "  * time      (time) datetime64[ns] 1989-05-24T12:00:00 1989-05-27T12:00:00 ...\n",
       "  * xi_u      (xi_u) float64 0.5 1.5 2.5 3.5 4.5 5.5 6.5 7.5 8.5 9.5 10.5 ...\n",
       "  * eta_u     (eta_u) int64 0 1 2 3 4 5 6 7 8 9 10 11 12 13 14 15 16 17 18 ...\n",
       "  * s_rho     (s_rho) float64 -0.9844 -0.9531 -0.9219 -0.8906 -0.8594 ...\n",
       "  * xi_v      (xi_v) int64 0 1 2 3 4 5 6 7 8 9 10 11 12 13 14 15 16 17 18 19 ...\n",
       "  * eta_v     (eta_v) float64 0.5 1.5 2.5 3.5 4.5 5.5 6.5 7.5 8.5 9.5 10.5 ...\n",
       "    z_rho     (s_rho, eta_rho, xi_rho) float32 -4.92188 -4.92188 -4.92188 ...\n",
       "  * s_w       (s_w) float64 -1.0 -0.9688 -0.9375 -0.9062 -0.875 -0.8438 ...\n",
       "Data variables:\n",
       "    mask_rho  (eta_rho, xi_rho) float64 ...\n",
       "    h         (eta_rho, xi_rho) float64 5.0 5.0 5.0 5.0 5.0 5.0 5.0 5.0 5.0 ...\n",
       "    pm        (eta_rho, xi_rho) float64 ...\n",
       "    pn        (eta_rho, xi_rho) float64 ...\n",
       "    zeta      (time, eta_rho, xi_rho) float32 ...\n",
       "    u         (time, s_rho, eta_u, xi_u) float32 ...\n",
       "    v         (time, s_rho, eta_v, xi_v) float32 ...\n",
       "    temp      (time, s_rho, eta_rho, xi_rho) float32 ...\n",
       "    salt      (time, s_rho, eta_rho, xi_rho) float32 ..."
      ]
     },
     "execution_count": 10,
     "metadata": {},
     "output_type": "execute_result"
    }
   ],
   "source": [
    "# Kan lage Dataset med relevante variable\n",
    "\n",
    "#grid_vars = ['xi_rho', 'eta_rho', 'xi_u', 'eta_u', 'xi_v', 'eta_v', \n",
    "#             'time', 's_rho', 's_w', 'lon_rho', 'lat_rho']\n",
    "# data_vars = ['']\n",
    "#data_vars = ['h', 'mask_rho', 'u', 'v', 'temp', 'salt']\n",
    "grid_vars = ['mask_rho', 'h', 'lon_rho', 'lat_rho', 'pm', 'pn', 's_rho', 's_w', 'time']\n",
    "data_vars = ['zeta', 'u', 'v', 'temp', 'salt']\n",
    "derived_vars = ['z_rho']\n",
    "V = grid_vars + data_vars + derived_vars\n",
    "#V = grid_vars \n",
    "\n",
    "G = {s:A[s] for s in V}\n",
    "\n",
    "B = xr.Dataset(G)\n",
    "B"
   ]
  },
  {
   "cell_type": "code",
   "execution_count": 11,
   "metadata": {},
   "outputs": [
    {
     "data": {
      "text/plain": [
       "<xarray.DataArray 'h' (eta_rho: 192, xi_rho: 182)>\n",
       "array([[    5.      ,     5.      ,     5.      , ...,     5.      ,\n",
       "            5.      ,     5.      ],\n",
       "       [    5.      ,     5.      ,     5.      , ...,     5.      ,\n",
       "            5.      ,     5.      ],\n",
       "       [    5.      ,     5.      ,     5.      , ...,     5.      ,\n",
       "            5.      ,     5.      ],\n",
       "       ..., \n",
       "       [ 2194.88739 ,  2179.544351,  2133.600487, ...,   344.860088,\n",
       "          334.600903,   331.234588],\n",
       "       [ 2128.993536,  2109.46699 ,  2054.094557, ...,   325.041484,\n",
       "          313.958383,   310.476131],\n",
       "       [ 2103.32002 ,  2082.164104,  2023.290909, ...,   318.360591,\n",
       "          307.140759,   303.649223]])\n",
       "Coordinates:\n",
       "  * xi_rho   (xi_rho) int64 0 1 2 3 4 5 6 7 8 9 10 11 12 13 14 15 16 17 18 ...\n",
       "  * eta_rho  (eta_rho) int64 0 1 2 3 4 5 6 7 8 9 10 11 12 13 14 15 16 17 18 ...\n",
       "    lat_rho  (eta_rho, xi_rho) float64 48.0 48.06 48.13 48.19 48.25 48.32 ...\n",
       "    lon_rho  (eta_rho, xi_rho) float64 -1.0 -0.9078 -0.8155 -0.7232 -0.6309 ...\n",
       "Attributes:\n",
       "    long_name:  bathymetry at RHO-points\n",
       "    units:      meter\n",
       "    field:      bath, scalar"
      ]
     },
     "execution_count": 11,
     "metadata": {},
     "output_type": "execute_result"
    }
   ],
   "source": [
    "B.h\n"
   ]
  },
  {
   "cell_type": "code",
   "execution_count": null,
   "metadata": {},
   "outputs": [],
   "source": []
  },
  {
   "cell_type": "code",
   "execution_count": null,
   "metadata": {},
   "outputs": [],
   "source": []
  }
 ],
 "metadata": {
  "kernelspec": {
   "display_name": "Python 3",
   "language": "python",
   "name": "python3"
  },
  "language_info": {
   "codemirror_mode": {
    "name": "ipython",
    "version": 3
   },
   "file_extension": ".py",
   "mimetype": "text/x-python",
   "name": "python",
   "nbconvert_exporter": "python",
   "pygments_lexer": "ipython3",
   "version": "3.6.5"
  }
 },
 "nbformat": 4,
 "nbformat_minor": 2
}
