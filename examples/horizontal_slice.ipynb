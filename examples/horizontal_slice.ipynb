{
 "cells": [
  {
   "cell_type": "markdown",
   "metadata": {},
   "source": [
    "# Horizontal slices\n",
    "\n",
    "One of the most common operations on a ROMS Dataset is to take a horizontal slice.\n",
    "Usually at fixed depth, but more general slices are sometimes used."
   ]
  },
  {
   "cell_type": "code",
   "execution_count": null,
   "metadata": {
    "scrolled": true
   },
   "outputs": [],
   "source": [
    "import matplotlib.pyplot as plt\n",
    "import xroms\n",
    "%matplotlib inline"
   ]
  },
  {
   "cell_type": "code",
   "execution_count": null,
   "metadata": {},
   "outputs": [],
   "source": [
    "A = xroms.roms_dataset('ocean_avg_0014.nc')"
   ]
  },
  {
   "cell_type": "markdown",
   "metadata": {},
   "source": [
    "### Surface plots\n",
    "\n",
    "The simplest is operation is to do a surface plot. \n",
    "This is available as the highest `s_rho` value."
   ]
  },
  {
   "cell_type": "code",
   "execution_count": null,
   "metadata": {},
   "outputs": [],
   "source": [
    "# Plot Sea Surface Temperature\n",
    "SST = A.temp.isel(ocean_time=0, s_rho=-1)\n",
    "SST = SST.where(A.mask_rho > 0)\n",
    "\n",
    "SST.plot()\n",
    "plt.axis('image');"
   ]
  },
  {
   "cell_type": "markdown",
   "metadata": {},
   "source": [
    "### Slice at fixed depth\n",
    "\n",
    "The next step is to make a slice at fixed depth.\n",
    "The `xroms` package has a function `z_slice` for this purpose.\n",
    "\n",
    "At depths below the surface it is useful to indicate the position\n",
    "of land. Here this is done by `pcolormesh` of the land mask.\n",
    "For solutions involving a coast line, see [geography](geography.ipynb) notebook."
   ]
  },
  {
   "cell_type": "code",
   "execution_count": null,
   "metadata": {},
   "outputs": [],
   "source": [
    "# Temperature at 50 meter at first timeframe\n",
    "T50 = xroms.zslice(A.temp.isel(ocean_time=0), 50)\n",
    "# Make a contour plot\n",
    "T50.plot.contourf()\n",
    "# Plot the land mask\n",
    "M = A.mask_rho.where(A.mask_rho < 1)\n",
    "M.plot(add_colorbar=False, cmap='Pastel2_r')\n",
    "# Make correct aspect ratio\n",
    "plt.axis('image');"
   ]
  },
  {
   "cell_type": "markdown",
   "metadata": {},
   "source": [
    "A useful check is that `z_rho` sliced at a given depth `z`,\n",
    "should return the depth (really `-abs(z)`),"
   ]
  },
  {
   "cell_type": "code",
   "execution_count": null,
   "metadata": {},
   "outputs": [],
   "source": [
    "# Sanity check on zslice\n",
    "V = xroms.zslice(A.z_rho, 50)\n",
    "print('Minimum = ', float(V.min()))\n",
    "print('Maximum = ', float(V.max()))"
   ]
  },
  {
   "cell_type": "markdown",
   "metadata": {},
   "source": [
    "### Advanced slicing\n",
    "\n",
    "The `xroms` package can be used to more advanced slicing using the `HorizontalSlicer` class.\n",
    "An instance can be used as a function, to quickly slice several variables to the same surface.\n",
    "\n",
    "The `zslice` function is a convenience function for the two-step procedure:\n",
    "\n",
    "```python\n",
    "  slicer = xroms.HorizontalSlicer(A.z_rho, -abs(z))\n",
    "  slicer(A.temp.isel(time=0))\n",
    "```  \n",
    "\n",
    "If several variables are needed at the fixed depth, it saves time to make the `slicer` instance\n",
    "up front."
   ]
  },
  {
   "cell_type": "code",
   "execution_count": null,
   "metadata": {},
   "outputs": [],
   "source": [
    "# Slice at the 35.0 isohaline at first time step\n",
    "s35_slicer = xroms.HorizontalSlicer(A.salt.isel(ocean_time=0), 35.0)"
   ]
  },
  {
   "cell_type": "markdown",
   "metadata": {},
   "source": [
    "Plot the depth of the 35.0 isohaline on the left and the Sea Surface Salinity at the right.\n",
    "The 35.0 isohaline is marked as a black contour line in the right panel.\n",
    "\n",
    "The white areas in the left panel is where the salinity is nowhere 35.0 in the water column.\n",
    "In the southern North Sea and along the Norwegian coast because it is fresher and \n",
    "in the deeper ocean because it is saltier. \n",
    "The green parts with a shallow isohaline has fresher water at the surface. \n",
    "The bluish area has salty water on top and an deep isohaline above fresher water.\n",
    "The sharp \"front\" is caused by switching from one type of isohaline to the other."
   ]
  },
  {
   "cell_type": "code",
   "execution_count": null,
   "metadata": {},
   "outputs": [],
   "source": [
    "# Compare the depth of the 35.0 isohaline\n",
    "# with the Sea Surface Salinity\n",
    "\n",
    "Z = s35_slicer(A.z_rho)             # Depth of isosurface\n",
    "SSS = A.salt.isel(ocean_time=0, s_rho=-1) # Sea Surface Salinity\n",
    "SSS = SSS.where(A.mask_rho > 0)     # Mask out land\n",
    "\n",
    "# Figure with two panels\n",
    "fig, axes = plt.subplots(ncols=2, figsize=(12,5))\n",
    "\n",
    "# Isohaline depth\n",
    "Z.plot(ax=axes[0], levels=[-1000, -500, -200, -100, -50, -20, -10])\n",
    "# Make a simple coast line\n",
    "A.mask_rho.plot.contour(ax=axes[0], levels=[0.5], linewidths=0.5, colors='black')\n",
    "plt.axis('image');\n",
    "\n",
    "# Sea Surface salinity\n",
    "SSS.plot(ax=axes[1], levels=[18, 25, 30, 33, 34, 34.5, 34.8, 35, 35.1, 35.2], cmap='GnBu')\n",
    "# Emphasize the 35 isohaline\n",
    "SSS.plot.contour(ax=axes[1], levels=[35], colors='black')\n",
    "A.mask_rho.plot.contour(ax=axes[1], levels=[0.5], linewidths=0.5, colors='black')\n",
    "plt.axis('image');"
   ]
  },
  {
   "cell_type": "markdown",
   "metadata": {},
   "source": [
    "Finally, plot the temperature at the 35 isohaline.\n",
    "Use only the shallow isohaline, selected by `SSS < 35`"
   ]
  },
  {
   "cell_type": "code",
   "execution_count": null,
   "metadata": {},
   "outputs": [],
   "source": [
    "from numpy import arange\n",
    "import cmocean.cm as cmo   # Import cmocean colourmaps\n",
    "T = s35_slicer(A.isel(ocean_time=0).temp)\n",
    "T = T.where(SSS < 35)\n",
    "T.plot.contourf(levels=arange(6, 13, 1), cmap=cmo.thermal)\n",
    "A.mask_rho.plot.contour(levels=[0.5], colors='black')\n",
    "plt.axis('image');"
   ]
  },
  {
   "cell_type": "markdown",
   "metadata": {},
   "source": [
    "ROMS does not typically store the density. Using the equation of state,\n",
    "f.ex. from the seawater package, https://github.com/bjornaa/seawater,\n",
    "the density can be calculated. Below this is used to plot the depth of\n",
    "the 1028 kg/m^3 isopycnal."
   ]
  },
  {
   "cell_type": "code",
   "execution_count": null,
   "metadata": {},
   "outputs": [],
   "source": [
    "# Could be interesting to continue and plot horizontal\n",
    "# current vectors at this depth\n",
    "\n",
    "import seawater as sw\n",
    "\n",
    "A0 = A.isel(ocean_time=0)\n",
    "density = sw.dens(A0.salt, A0.temp, -A0.z_rho) \n",
    "\n",
    "isopykn = xroms.HorizontalSlicer(density, 1028)\n",
    "Z = isopykn(A.z_rho)             # Depth of isosurface\n",
    "Z.plot()\n",
    "A.mask_rho.plot.contour(levels=[0.5], colors='black')\n",
    "plt.axis('image');"
   ]
  },
  {
   "cell_type": "markdown",
   "metadata": {},
   "source": [
    "### Horizontal computations\n",
    "\n",
    "The XROMS package can also be used to quantify properties in the \n",
    "horizontal maps. First make a DataArray of the grid cell areas,\n",
    "and thereafte sum grid cells with different properties."
   ]
  },
  {
   "cell_type": "code",
   "execution_count": null,
   "metadata": {},
   "outputs": [],
   "source": [
    "# Make a DataArray of the grid cell areas\n",
    "area = 0.001/A.pm * 0.001/A.pn\n",
    "area.attrs = dict(long_name='grid cell area', units='km^2')"
   ]
  },
  {
   "cell_type": "code",
   "execution_count": null,
   "metadata": {},
   "outputs": [],
   "source": [
    "# Physical sizes\n",
    "sea_area = area.where(A.mask_rho > 0).sum()\n",
    "land_area = area.where(A.mask_rho < 1).sum()\n",
    "\n",
    "#H = A.h.where(A.mask_rho > 0)   # Bathymetry at sea\n",
    "# area50 = area.where(H < 50).sum()\n",
    "area50 = area.where((A.mask_rho > 0) & (A.h < 50)).sum()\n",
    "area50plus = area.where(A.h >= 50).sum()\n",
    "\n",
    "print(f\"Total area                   = {float(area.sum()):10.2f} km²\")\n",
    "print(f\"Sea area                     = {float(sea_area):10.2f} km²\")\n",
    "print(f\"Land area                    = {float(land_area):10.2f} km²\")\n",
    "print(f\"Sea area shallower than 50 m = {float(area50):10.2f} km²\")\n",
    "print(f\"Sea area deeper than 50 m    = {float(area50plus):10.2f} km²\")"
   ]
  },
  {
   "cell_type": "markdown",
   "metadata": {},
   "source": [
    "Extract and plot time series related to the seasonal warming\n",
    "of the Sea Surface Temperature. Two correlated series are considered,\n",
    "the mean SST and the area with SST > 10°C."
   ]
  },
  {
   "cell_type": "code",
   "execution_count": null,
   "metadata": {},
   "outputs": [],
   "source": [
    "# Sea Surface Temperature\n",
    "SST = A.temp.isel(s_rho=-1)\n",
    "\n",
    "# Area weighted spatial mean SST\n",
    "SSTmean = (SST * area).sum(('xi_rho', 'eta_rho')) / area.sum()  \n",
    "SSTmean.attrs = dict(units='degrees Celsius')\n",
    "\n",
    "# Area fraction with SST higher than 10 degrees\n",
    "A10 = area.where(SST > 10).sum(('xi_rho', 'eta_rho')) / area.sum()\n",
    "A10.attrs = dict(long_name='Area fraction')\n",
    "\n",
    "# Plot\n",
    "fig, axes = plt.subplots(ncols=2, figsize=(10, 4))\n",
    "\n",
    "SSTmean.plot(ax=axes[0])\n",
    "axes[0].set_title('Mean temperature')\n",
    "axes[0].set_xlabel('Time')\n",
    "\n",
    "A10.plot(ax=axes[1])\n",
    "axes[1].set_title('Area with temperature > 10°C')\n",
    "axes[1].set_xlabel('Time');"
   ]
  },
  {
   "cell_type": "code",
   "execution_count": null,
   "metadata": {},
   "outputs": [],
   "source": []
  }
 ],
 "metadata": {
  "kernelspec": {
   "display_name": "Python 3",
   "language": "python",
   "name": "python3"
  },
  "language_info": {
   "codemirror_mode": {
    "name": "ipython",
    "version": 3
   },
   "file_extension": ".py",
   "mimetype": "text/x-python",
   "name": "python",
   "nbconvert_exporter": "python",
   "pygments_lexer": "ipython3",
   "version": "3.7.2"
  }
 },
 "nbformat": 4,
 "nbformat_minor": 2
}
