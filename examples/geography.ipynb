{
 "cells": [
  {
   "cell_type": "markdown",
   "metadata": {},
   "source": [
    "# Simple geography"
   ]
  },
  {
   "cell_type": "code",
   "execution_count": 1,
   "metadata": {},
   "outputs": [
    {
     "ename": "ModuleNotFoundError",
     "evalue": "No module named 'sample'",
     "output_type": "error",
     "traceback": [
      "\u001b[0;31m---------------------------------------------------------------------------\u001b[0m",
      "\u001b[0;31mModuleNotFoundError\u001b[0m                       Traceback (most recent call last)",
      "\u001b[0;32m<ipython-input-1-94de7ca17f7c>\u001b[0m in \u001b[0;36m<module>\u001b[0;34m()\u001b[0m\n\u001b[1;32m      3\u001b[0m \u001b[0;32mimport\u001b[0m \u001b[0mmatplotlib\u001b[0m\u001b[0;34m.\u001b[0m\u001b[0mpyplot\u001b[0m \u001b[0;32mas\u001b[0m \u001b[0mplt\u001b[0m\u001b[0;34m\u001b[0m\u001b[0m\n\u001b[1;32m      4\u001b[0m \u001b[0;32mimport\u001b[0m \u001b[0mxarray\u001b[0m \u001b[0;32mas\u001b[0m \u001b[0mxr\u001b[0m\u001b[0;34m\u001b[0m\u001b[0m\n\u001b[0;32m----> 5\u001b[0;31m \u001b[0;32mimport\u001b[0m \u001b[0mxroms\u001b[0m\u001b[0;34m\u001b[0m\u001b[0m\n\u001b[0m\u001b[1;32m      6\u001b[0m \u001b[0;31m#%matplotlib notebook\u001b[0m\u001b[0;34m\u001b[0m\u001b[0;34m\u001b[0m\u001b[0m\n\u001b[1;32m      7\u001b[0m \u001b[0mget_ipython\u001b[0m\u001b[0;34m(\u001b[0m\u001b[0;34m)\u001b[0m\u001b[0;34m.\u001b[0m\u001b[0mrun_line_magic\u001b[0m\u001b[0;34m(\u001b[0m\u001b[0;34m'matplotlib'\u001b[0m\u001b[0;34m,\u001b[0m \u001b[0;34m'inline'\u001b[0m\u001b[0;34m)\u001b[0m\u001b[0;34m\u001b[0m\u001b[0m\n",
      "\u001b[0;32m/opt/anaconda/lib/python3.6/site-packages/xroms/__init__.py\u001b[0m in \u001b[0;36m<module>\u001b[0;34m()\u001b[0m\n\u001b[1;32m     12\u001b[0m \u001b[0;32mfrom\u001b[0m \u001b[0mxroms\u001b[0m\u001b[0;34m.\u001b[0m\u001b[0msection\u001b[0m \u001b[0;32mimport\u001b[0m \u001b[0msection\u001b[0m\u001b[0;34m\u001b[0m\u001b[0m\n\u001b[1;32m     13\u001b[0m \u001b[0;34m\u001b[0m\u001b[0m\n\u001b[0;32m---> 14\u001b[0;31m \u001b[0;32mfrom\u001b[0m \u001b[0;34m.\u001b[0m \u001b[0;32mimport\u001b[0m \u001b[0mlonlat\u001b[0m\u001b[0;34m\u001b[0m\u001b[0m\n\u001b[0m\u001b[1;32m     15\u001b[0m \u001b[0;34m\u001b[0m\u001b[0m\n\u001b[1;32m     16\u001b[0m \u001b[0;31m# from xroms.lonlat import *\u001b[0m\u001b[0;34m\u001b[0m\u001b[0;34m\u001b[0m\u001b[0m\n",
      "\u001b[0;32m/opt/anaconda/lib/python3.6/site-packages/xroms/lonlat.py\u001b[0m in \u001b[0;36m<module>\u001b[0;34m()\u001b[0m\n\u001b[1;32m      1\u001b[0m \u001b[0;32mimport\u001b[0m \u001b[0mnumpy\u001b[0m \u001b[0;32mas\u001b[0m \u001b[0mnp\u001b[0m\u001b[0;34m\u001b[0m\u001b[0m\n\u001b[1;32m      2\u001b[0m \u001b[0;32mfrom\u001b[0m \u001b[0mscipy\u001b[0m\u001b[0;34m.\u001b[0m\u001b[0minterpolate\u001b[0m \u001b[0;32mimport\u001b[0m \u001b[0mgriddata\u001b[0m\u001b[0;34m\u001b[0m\u001b[0m\n\u001b[0;32m----> 3\u001b[0;31m \u001b[0;32mfrom\u001b[0m \u001b[0msample\u001b[0m \u001b[0;32mimport\u001b[0m \u001b[0mbilin_inv\u001b[0m\u001b[0;34m\u001b[0m\u001b[0m\n\u001b[0m\u001b[1;32m      4\u001b[0m \u001b[0;34m\u001b[0m\u001b[0m\n\u001b[1;32m      5\u001b[0m \u001b[0;34m\u001b[0m\u001b[0m\n",
      "\u001b[0;31mModuleNotFoundError\u001b[0m: No module named 'sample'"
     ]
    }
   ],
   "source": [
    "#%matplotlib notebook\n",
    "import numpy as np\n",
    "import matplotlib.pyplot as plt\n",
    "import xarray as xr\n",
    "import xroms\n",
    "#%matplotlib notebook\n",
    "%matplotlib inline"
   ]
  },
  {
   "cell_type": "markdown",
   "metadata": {},
   "source": [
    "### Using the model grid projection\n",
    "\n",
    "The model grid is an orthogonal map projection. Often quite non-standard, like in our \n",
    "case here.\n",
    "\n",
    "A coastline in lon, lat can be generated from `GSHHS` by the correct `basemap` set-up.\n",
    "The script `make_coast.py` does the job and save the result as an `.npy`-file.\n",
    "Using the `ll2xy` method, makes a coast line in the grid projection. It can be useful\n",
    "to save this as a `.npy` file to speed up generation of grid maps.\n",
    "\n",
    "A simple way to put the grid on a map, is to add contour lines of longitude and \n",
    "latitude."
   ]
  },
  {
   "cell_type": "code",
   "execution_count": null,
   "metadata": {},
   "outputs": [],
   "source": [
    "# Initiate the Dataset\n",
    "A = xroms.roms_dataset(\"ocean_avg_0014.nc\")\n",
    "\n",
    "\n",
    "# Find geographic extent\n",
    "print('Longitude range: {:6.2f}, {:6.2f}'.format(\n",
    "      A.lon_rho.min().item(), A.lon_rho.max().item()))\n",
    "print('Latitude range : {:6.2f}, {:6.2f}'.format(\n",
    "      A.lat_rho.min().item(), A.lat_rho.max().item()))\n"
   ]
  },
  {
   "cell_type": "markdown",
   "metadata": {},
   "source": [
    "Generate the coast line, both in geographical and grid coordinates.\n",
    "This processing takes some time, so it it skipped if the coast files\n",
    "`coast.npy`, `coast_xy.npy` already exists in the present directory."
   ]
  },
  {
   "cell_type": "code",
   "execution_count": null,
   "metadata": {},
   "outputs": [],
   "source": [
    "import os.path\n",
    "\n",
    "coastfile = 'coast.npy'\n",
    "\n",
    "if not os.path.isfile('coast.npy'):\n",
    "\n",
    "    # Generate coast line\n",
    "    from make_coast import makecoast\n",
    "    # from lonlat import *\n",
    "\n",
    "    # Determine geographical extent\n",
    "    # Use slightly larger extent\n",
    "    lon0, lon1 = -21, 18  # Longitude range\n",
    "    lat0, lat1 = 47, 67  # Latitude range\n",
    "\n",
    "    # Choose GSHHS resolution\n",
    "    GSHHSres = 'i'   # intermediate resolution\n",
    "\n",
    "    # Choose a list of GSHHS types\n",
    "    GSHHStypes = [1]  # land-sea boundary\n",
    "\n",
    "\n",
    "    # Make the coast line\n",
    "    makecoast(lon0, lon1, lat0, lat1, GSHHSres, GSHHStypes, coastfile)\n",
    "\n",
    "    # Test plot\n",
    "    for p in np.load(coastfile):\n",
    "        plt.plot(*p)\n",
    "    "
   ]
  },
  {
   "cell_type": "code",
   "execution_count": null,
   "metadata": {},
   "outputs": [],
   "source": [
    "# Make the grid coast file if needed.\n",
    "if not os.path.isfile('coast_xy.npy'):\n",
    "    \n",
    "    from lonlat import ll2xy1\n",
    "    \n",
    "    # Read and convert to grid coordinates\n",
    "    xcoast, ycoast = [], []\n",
    "    xy = []\n",
    "    for p in np.load(coastfile):\n",
    "        px, py = ll2xy1(A, *p)\n",
    "        xy.append((px, py))\n",
    "\n",
    "    # Save the coastline in grid coordinates\n",
    "    np.save('coast_xy.npy', xy)\n",
    "\n",
    "    # Test plot\n",
    "    for p in xy:\n",
    "        plt.plot(*p)"
   ]
  },
  {
   "cell_type": "code",
   "execution_count": null,
   "metadata": {},
   "outputs": [],
   "source": [
    "# Read bottom topography\n",
    "H = A.h.where(A.mask_rho > 0)\n",
    "\n",
    "# levels for longitude/latitude lines\n",
    "lons = np.arange(-20, 20, 5)\n",
    "lats = np.arange(48, 66, 2)\n",
    "\n",
    "# Coast line\n",
    "coast_polygons = np.load(\"coast_xy.npy\")\n",
    "\n",
    "# Make the plot\n",
    "plt.figure() \n",
    "H.plot(cmap='viridis_r')\n",
    "A.lon_rho.plot.contour(levels=lons, colors='black', linewidths=0.7, linestyles=':')\n",
    "A.lat_rho.plot.contour(levels=lats, colors='black', linewidths=0.7, linestyles=':')\n",
    "for p in coast_polygons:\n",
    "    plt.plot(*p, color='black')\n",
    "plt.axis('image');"
   ]
  },
  {
   "cell_type": "markdown",
   "metadata": {},
   "source": [
    "### Regrid to longitude, latitude grid\n",
    "\n",
    "The resolution in the model file,  `0.001/A.pm.mean()`,  is approximately 8 km.\n",
    "Focus on the Skagerrak, 56° to 60°N and 6° to 12°E. The resolution is finer,\n",
    "4′= (1/15)° E-W and 2′ = (1/30)° N-S, both approximately 3.7 km "
   ]
  },
  {
   "cell_type": "code",
   "execution_count": null,
   "metadata": {},
   "outputs": [],
   "source": [
    "# Denne virker ikke når A har fått geografiske koord\n",
    "# Navnene lon, lat er \"oppbrukt\"\n",
    "\n",
    "from lonlat import *\n",
    "\n",
    "# Define the grid\n",
    "lon0, lon1, dlon = 6, 12, 8    # 4 min = 1/15 deg, approx. 3.7 km\n",
    "nlon = (lon1 - lon0)*dlon + 1\n",
    "lon = np.linspace(lon0, lon1, nlon)\n",
    "\n",
    "lat0, lat1, dlat = 56, 60, 16   # 2 min = 1/30 deg, \n",
    "nlat = (lat1-lat0)*dlat + 1\n",
    "lat = np.linspace(lat0, lat1, nlat)\n",
    "\n",
    "# Make the 2D grid\n",
    "lon2, lat2 = np.meshgrid(lon, lat)\n",
    "# The grid points in the model grid\n",
    "x2, y2 = ll2xy1(A, lon2, lat2)\n",
    "\n",
    "# Make DataArrays \n",
    "coords = dict(latitude=lat, longitude=lon)\n",
    "x2 = xr.DataArray(x2, dims=coords.keys(), coords=coords)\n",
    "y2 = xr.DataArray(y2, dims=coords.keys(), coords=coords)\n",
    "\n",
    "# The regridded Dataset\n",
    "B = A.interp(xi_rho=x2, eta_rho=y2)"
   ]
  },
  {
   "cell_type": "code",
   "execution_count": null,
   "metadata": {},
   "outputs": [],
   "source": [
    "HB = B.h.where(B.mask_rho > 0.5)\n",
    "levels = [10, 20, 50, 100, 200, 500]\n",
    "coast_pols = np.load('coast.npy')\n",
    "\n",
    "plt.figure()\n",
    "HB.plot(levels=levels, cmap='viridis_r')\n",
    "for p in coast_pols:\n",
    "    plt.plot(*p, color='black')"
   ]
  },
  {
   "cell_type": "markdown",
   "metadata": {},
   "source": [
    "Take a horizontal slice at 50 meter of the fourth timestamp.\n",
    "and plot in grid coordinates versus longitude/latitude."
   ]
  },
  {
   "cell_type": "code",
   "execution_count": null,
   "metadata": {},
   "outputs": [],
   "source": [
    "# Select time = 3 and take a slice at 50 meter\n",
    "depth = 50\n",
    "temp50 = xroms.zslice(A.temp.isel(time=3), depth)\n",
    "\n",
    "# kan få denne notasjonen q\n",
    "#temp50 = A.temp.isel(time=3).xroms.zslice(depth)\n",
    "\n",
    "# Plot\n",
    "fig, axes = plt.subplots(ncols=2, figsize=(8, 4))\n",
    "\n",
    "# Grid coordinates\n",
    "temp50.plot.contourf(ax=axes[0], add_colorbar=False)\n",
    "xy_pols = np.load('coast_xy.npy')\n",
    "for p in xy_pols:\n",
    "    axes[0].plot(*p, color='black')\n",
    "axes[0].axis('image')\n",
    "\n",
    "# Geographical coordinates\n",
    "temp50.plot.contourf('lon_rho', 'lat_rho', ax=axes[1])\n",
    "for p in coast_pols:\n",
    "    axes[1].plot(*p, color='black')\n",
    "axes[1].axis([-11, 11, 50, 65]);"
   ]
  },
  {
   "cell_type": "code",
   "execution_count": null,
   "metadata": {},
   "outputs": [],
   "source": []
  },
  {
   "cell_type": "code",
   "execution_count": null,
   "metadata": {},
   "outputs": [],
   "source": []
  },
  {
   "cell_type": "code",
   "execution_count": null,
   "metadata": {},
   "outputs": [],
   "source": []
  }
 ],
 "metadata": {
  "kernelspec": {
   "display_name": "Python 3",
   "language": "python",
   "name": "python3"
  },
  "language_info": {
   "codemirror_mode": {
    "name": "ipython",
    "version": 3
   },
   "file_extension": ".py",
   "mimetype": "text/x-python",
   "name": "python",
   "nbconvert_exporter": "python",
   "pygments_lexer": "ipython3",
   "version": "3.6.5"
  }
 },
 "nbformat": 4,
 "nbformat_minor": 2
}
